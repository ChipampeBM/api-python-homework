{
 "cells": [
  {
   "cell_type": "markdown",
   "metadata": {},
   "source": [
    "# VacationPy\n",
    "----\n",
    "\n",
    "#### Note\n",
    "* Keep an eye on your API usage. Use https://developers.google.com/maps/reporting/gmp-reporting as reference for how to monitor your usage and billing.\n",
    "\n",
    "* Instructions have been included for each segment. You do not have to follow them exactly, but they are included to help you think through the steps."
   ]
  },
  {
   "cell_type": "code",
   "execution_count": 22,
   "metadata": {},
   "outputs": [],
   "source": [
    "import matplotlib.pyplot as plt\n",
    "import pandas as pd\n",
    "import numpy as np\n",
    "import requests\n",
    "import gmaps\n",
    "import os\n",
    "\n",
    "from config import g_key\n",
    "gmaps.configure(api_key= g_key)\n"
   ]
  },
  {
   "cell_type": "markdown",
   "metadata": {},
   "source": [
    "### Store Part I results into DataFrame\n",
    "* Load the csv exported in Part I to a DataFrame"
   ]
  },
  {
   "cell_type": "code",
   "execution_count": 23,
   "metadata": {},
   "outputs": [
    {
     "data": {
      "text/html": "<div>\n<style scoped>\n    .dataframe tbody tr th:only-of-type {\n        vertical-align: middle;\n    }\n\n    .dataframe tbody tr th {\n        vertical-align: top;\n    }\n\n    .dataframe thead th {\n        text-align: right;\n    }\n</style>\n<table border=\"1\" class=\"dataframe\">\n  <thead>\n    <tr style=\"text-align: right;\">\n      <th></th>\n      <th>City</th>\n      <th>Country</th>\n      <th>Lat</th>\n      <th>Lng</th>\n      <th>Max Temp</th>\n      <th>Humidity</th>\n      <th>Cloudiness</th>\n      <th>Wind Speed</th>\n      <th>Date</th>\n    </tr>\n  </thead>\n  <tbody>\n    <tr>\n      <th>0</th>\n      <td>albany</td>\n      <td>US</td>\n      <td>42.6001</td>\n      <td>-73.9662</td>\n      <td>80.15</td>\n      <td>69</td>\n      <td>5</td>\n      <td>1.95</td>\n      <td>1627395208</td>\n    </tr>\n    <tr>\n      <th>1</th>\n      <td>avarua</td>\n      <td>CK</td>\n      <td>-21.2078</td>\n      <td>-159.7750</td>\n      <td>69.85</td>\n      <td>94</td>\n      <td>75</td>\n      <td>2.30</td>\n      <td>1627395209</td>\n    </tr>\n    <tr>\n      <th>2</th>\n      <td>baglan</td>\n      <td>AF</td>\n      <td>36.1307</td>\n      <td>68.7083</td>\n      <td>98.82</td>\n      <td>15</td>\n      <td>0</td>\n      <td>9.82</td>\n      <td>1627395211</td>\n    </tr>\n    <tr>\n      <th>3</th>\n      <td>provideniya</td>\n      <td>RU</td>\n      <td>64.3833</td>\n      <td>-173.3000</td>\n      <td>46.92</td>\n      <td>99</td>\n      <td>100</td>\n      <td>9.86</td>\n      <td>1627395211</td>\n    </tr>\n    <tr>\n      <th>4</th>\n      <td>hasaki</td>\n      <td>JP</td>\n      <td>35.7333</td>\n      <td>140.8333</td>\n      <td>73.80</td>\n      <td>73</td>\n      <td>80</td>\n      <td>13.38</td>\n      <td>1627395037</td>\n    </tr>\n  </tbody>\n</table>\n</div>",
      "text/plain": "          City Country      Lat       Lng  Max Temp  Humidity  Cloudiness  \\\n0       albany      US  42.6001  -73.9662     80.15        69           5   \n1       avarua      CK -21.2078 -159.7750     69.85        94          75   \n2       baglan      AF  36.1307   68.7083     98.82        15           0   \n3  provideniya      RU  64.3833 -173.3000     46.92        99         100   \n4       hasaki      JP  35.7333  140.8333     73.80        73          80   \n\n   Wind Speed        Date  \n0        1.95  1627395208  \n1        2.30  1627395209  \n2        9.82  1627395211  \n3        9.86  1627395211  \n4       13.38  1627395037  "
     },
     "execution_count": 23,
     "metadata": {},
     "output_type": "execute_result"
    }
   ],
   "source": [
    "part_1csv = \"/Users/chipampe/Desktop/python api - homework/cities.csv\"\n",
    "weather_data = pd.read_csv(part_1csv)\n",
    "\n",
    "weather_data.head()\n"
   ]
  },
  {
   "cell_type": "code",
   "execution_count": 24,
   "metadata": {},
   "outputs": [
    {
     "data": {
      "text/html": "<div>\n<style scoped>\n    .dataframe tbody tr th:only-of-type {\n        vertical-align: middle;\n    }\n\n    .dataframe tbody tr th {\n        vertical-align: top;\n    }\n\n    .dataframe thead th {\n        text-align: right;\n    }\n</style>\n<table border=\"1\" class=\"dataframe\">\n  <thead>\n    <tr style=\"text-align: right;\">\n      <th></th>\n      <th>Lat</th>\n      <th>Lng</th>\n      <th>Max Temp</th>\n      <th>Humidity</th>\n      <th>Cloudiness</th>\n      <th>Wind Speed</th>\n      <th>Date</th>\n    </tr>\n  </thead>\n  <tbody>\n    <tr>\n      <th>count</th>\n      <td>537.000000</td>\n      <td>537.000000</td>\n      <td>537.000000</td>\n      <td>537.000000</td>\n      <td>537.000000</td>\n      <td>537.000000</td>\n      <td>5.370000e+02</td>\n    </tr>\n    <tr>\n      <th>mean</th>\n      <td>13.721042</td>\n      <td>17.403017</td>\n      <td>74.566276</td>\n      <td>65.143389</td>\n      <td>49.681564</td>\n      <td>8.713538</td>\n      <td>1.627395e+09</td>\n    </tr>\n    <tr>\n      <th>std</th>\n      <td>30.134369</td>\n      <td>88.357272</td>\n      <td>13.283289</td>\n      <td>24.064898</td>\n      <td>40.214735</td>\n      <td>6.086871</td>\n      <td>1.660000e+02</td>\n    </tr>\n    <tr>\n      <th>min</th>\n      <td>-54.800000</td>\n      <td>-175.200000</td>\n      <td>35.260000</td>\n      <td>4.000000</td>\n      <td>0.000000</td>\n      <td>0.000000</td>\n      <td>1.627395e+09</td>\n    </tr>\n    <tr>\n      <th>25%</th>\n      <td>-11.096400</td>\n      <td>-61.348500</td>\n      <td>66.870000</td>\n      <td>51.000000</td>\n      <td>4.000000</td>\n      <td>4.050000</td>\n      <td>1.627395e+09</td>\n    </tr>\n    <tr>\n      <th>50%</th>\n      <td>17.881500</td>\n      <td>21.889200</td>\n      <td>76.840000</td>\n      <td>72.000000</td>\n      <td>48.000000</td>\n      <td>7.520000</td>\n      <td>1.627395e+09</td>\n    </tr>\n    <tr>\n      <th>75%</th>\n      <td>40.602000</td>\n      <td>94.390000</td>\n      <td>82.450000</td>\n      <td>84.000000</td>\n      <td>92.000000</td>\n      <td>11.900000</td>\n      <td>1.627396e+09</td>\n    </tr>\n    <tr>\n      <th>max</th>\n      <td>65.614500</td>\n      <td>179.316700</td>\n      <td>115.250000</td>\n      <td>100.000000</td>\n      <td>100.000000</td>\n      <td>33.380000</td>\n      <td>1.627396e+09</td>\n    </tr>\n  </tbody>\n</table>\n</div>",
      "text/plain": "              Lat         Lng    Max Temp    Humidity  Cloudiness  Wind Speed  \\\ncount  537.000000  537.000000  537.000000  537.000000  537.000000  537.000000   \nmean    13.721042   17.403017   74.566276   65.143389   49.681564    8.713538   \nstd     30.134369   88.357272   13.283289   24.064898   40.214735    6.086871   \nmin    -54.800000 -175.200000   35.260000    4.000000    0.000000    0.000000   \n25%    -11.096400  -61.348500   66.870000   51.000000    4.000000    4.050000   \n50%     17.881500   21.889200   76.840000   72.000000   48.000000    7.520000   \n75%     40.602000   94.390000   82.450000   84.000000   92.000000   11.900000   \nmax     65.614500  179.316700  115.250000  100.000000  100.000000   33.380000   \n\n               Date  \ncount  5.370000e+02  \nmean   1.627395e+09  \nstd    1.660000e+02  \nmin    1.627395e+09  \n25%    1.627395e+09  \n50%    1.627395e+09  \n75%    1.627396e+09  \nmax    1.627396e+09  "
     },
     "execution_count": 24,
     "metadata": {},
     "output_type": "execute_result"
    }
   ],
   "source": [
    "weather_data.describe()"
   ]
  },
  {
   "cell_type": "markdown",
   "metadata": {},
   "source": [
    "### Humidity Heatmap\n",
    "* Configure gmaps.\n",
    "* Use the Lat and Lng as locations and Humidity as the weight.\n",
    "* Add Heatmap layer to map."
   ]
  },
  {
   "cell_type": "code",
   "execution_count": 25,
   "metadata": {},
   "outputs": [
    {
     "name": "stdout",
     "output_type": "stream",
     "text": [
      "\n"
     ]
    }
   ],
   "source": [
    "gmaps.configure(api_key=g_key)\n",
    "print()"
   ]
  },
  {
   "cell_type": "code",
   "execution_count": 26,
   "metadata": {},
   "outputs": [
    {
     "data": {
      "application/vnd.jupyter.widget-view+json": {
       "model_id": "30ad1b3acd7a49da9481f6edb965d4fe",
       "version_major": 2,
       "version_minor": 0
      },
      "text/plain": "Figure(layout=FigureLayout(border='1px solid black', height='600px', padding='1px', width='800px'))"
     },
     "metadata": {},
     "output_type": "display_data"
    }
   ],
   "source": [
    "\n",
    "# Store latitude and longitude in locations\n",
    "locations = weather_data[[\"Lat\", \"Lng\"]]\n",
    "\n",
    "# use humidity as the weight\n",
    "weight = weather_data[\"Humidity\"]\n",
    "\n",
    "# set figure layout\n",
    "figure_layout = {\n",
    "    'width': '800px',\n",
    "    'height': '600px',\n",
    "    'border': '1px solid black',\n",
    "    'padding': '1px'\n",
    "}\n",
    "\n",
    "# Plot Heatmap\n",
    "fig = gmaps.figure(map_type = 'HYBRID', layout=figure_layout)\n",
    "\n",
    "\n",
    "\n",
    "# Create heat layer\n",
    "heat_layer = gmaps.heatmap_layer(locations, \n",
    "                                weights=weight,\n",
    "                                dissipating=False, \n",
    "                                max_intensity=100,\n",
    "                                point_radius=6, \n",
    "                                opacity = 0.4,)\n",
    "\n",
    "# Add layer\n",
    "fig.add_layer(heat_layer)\n",
    "\n",
    "# Display figure\n",
    "fig"
   ]
  },
  {
   "cell_type": "code",
   "execution_count": null,
   "metadata": {},
   "outputs": [],
   "source": []
  },
  {
   "cell_type": "markdown",
   "metadata": {},
   "source": [
    "### Create new DataFrame fitting weather criteria\n",
    "* Narrow down the cities to fit weather conditions.\n",
    "* Drop any rows will null values."
   ]
  },
  {
   "cell_type": "code",
   "execution_count": null,
   "metadata": {},
   "outputs": [],
   "source": []
  },
  {
   "cell_type": "markdown",
   "metadata": {},
   "source": [
    "### Hotel Map\n",
    "* Store into variable named `hotel_df`.\n",
    "* Add a \"Hotel Name\" column to the DataFrame.\n",
    "* Set parameters to search for hotels with 5000 meters.\n",
    "* Hit the Google Places API for each city's coordinates.\n",
    "* Store the first Hotel result into the DataFrame.\n",
    "* Plot markers on top of the heatmap."
   ]
  },
  {
   "cell_type": "code",
   "execution_count": null,
   "metadata": {},
   "outputs": [],
   "source": []
  },
  {
   "cell_type": "code",
   "execution_count": null,
   "metadata": {},
   "outputs": [],
   "source": []
  },
  {
   "cell_type": "code",
   "execution_count": 27,
   "metadata": {},
   "outputs": [
    {
     "ename": "NameError",
     "evalue": "name 'hotel_df' is not defined",
     "output_type": "error",
     "traceback": [
      "\u001b[0;31m---------------------------------------------------------------------------\u001b[0m",
      "\u001b[0;31mNameError\u001b[0m                                 Traceback (most recent call last)",
      "\u001b[0;32m<ipython-input-27-464b2b3e63ad>\u001b[0m in \u001b[0;36m<module>\u001b[0;34m\u001b[0m\n\u001b[1;32m     11\u001b[0m \u001b[0;31m# Store the DataFrame Row\u001b[0m\u001b[0;34m\u001b[0m\u001b[0;34m\u001b[0m\u001b[0;34m\u001b[0m\u001b[0m\n\u001b[1;32m     12\u001b[0m \u001b[0;31m# NOTE: be sure to update with your DataFrame name\u001b[0m\u001b[0;34m\u001b[0m\u001b[0;34m\u001b[0m\u001b[0;34m\u001b[0m\u001b[0m\n\u001b[0;32m---> 13\u001b[0;31m \u001b[0mhotel_info\u001b[0m \u001b[0;34m=\u001b[0m \u001b[0;34m[\u001b[0m\u001b[0minfo_box_template\u001b[0m\u001b[0;34m.\u001b[0m\u001b[0mformat\u001b[0m\u001b[0;34m(\u001b[0m\u001b[0;34m**\u001b[0m\u001b[0mrow\u001b[0m\u001b[0;34m)\u001b[0m \u001b[0;32mfor\u001b[0m \u001b[0mindex\u001b[0m\u001b[0;34m,\u001b[0m \u001b[0mrow\u001b[0m \u001b[0;32min\u001b[0m \u001b[0mhotel_df\u001b[0m\u001b[0;34m.\u001b[0m\u001b[0miterrows\u001b[0m\u001b[0;34m(\u001b[0m\u001b[0;34m)\u001b[0m\u001b[0;34m]\u001b[0m\u001b[0;34m\u001b[0m\u001b[0;34m\u001b[0m\u001b[0m\n\u001b[0m\u001b[1;32m     14\u001b[0m \u001b[0mlocations\u001b[0m \u001b[0;34m=\u001b[0m \u001b[0mhotel_df\u001b[0m\u001b[0;34m[\u001b[0m\u001b[0;34m[\u001b[0m\u001b[0;34m\"Lat\"\u001b[0m\u001b[0;34m,\u001b[0m \u001b[0;34m\"Lng\"\u001b[0m\u001b[0;34m]\u001b[0m\u001b[0;34m]\u001b[0m\u001b[0;34m\u001b[0m\u001b[0;34m\u001b[0m\u001b[0m\n",
      "\u001b[0;31mNameError\u001b[0m: name 'hotel_df' is not defined"
     ]
    }
   ],
   "source": [
    "# NOTE: Do not change any of the code in this cell\n",
    "\n",
    "# Using the template add the hotel marks to the heatmap\n",
    "info_box_template = \"\"\"\n",
    "<dl>\n",
    "<dt>Name</dt><dd>{Hotel Name}</dd>\n",
    "<dt>City</dt><dd>{City}</dd>\n",
    "<dt>Country</dt><dd>{Country}</dd>\n",
    "</dl>\n",
    "\"\"\"\n",
    "# Store the DataFrame Row\n",
    "# NOTE: be sure to update with your DataFrame name\n",
    "hotel_info = [info_box_template.format(**row) for index, row in hotel_df.iterrows()]\n",
    "locations = hotel_df[[\"Lat\", \"Lng\"]]"
   ]
  },
  {
   "cell_type": "code",
   "execution_count": null,
   "metadata": {},
   "outputs": [],
   "source": [
    "# Add marker layer ontop of heat map\n",
    "\n",
    "\n",
    "# Display figure\n"
   ]
  },
  {
   "cell_type": "code",
   "execution_count": null,
   "metadata": {},
   "outputs": [],
   "source": []
  }
 ],
 "metadata": {
  "kernelspec": {
   "display_name": "Python 3.6.10 64-bit ('PythonData': conda)",
   "name": "python3610jvsc74a57bd0ecc4bf323017de4144aeadb71d37d643f0abdc911f386dfe385d6fe74aefab15"
  },
  "language_info": {
   "codemirror_mode": {
    "name": "ipython",
    "version": 3
   },
   "file_extension": ".py",
   "mimetype": "text/x-python",
   "name": "python",
   "nbconvert_exporter": "python",
   "pygments_lexer": "ipython3",
   "version": "3.6.10"
  },
  "orig_nbformat": 3
 },
 "nbformat": 4,
 "nbformat_minor": 4
}